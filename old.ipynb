{
  "nbformat": 4,
  "nbformat_minor": 0,
  "metadata": {
    "colab": {
      "private_outputs": true,
      "provenance": [],
      "gpuType": "T4",
      "authorship_tag": "ABX9TyNkSHdTn69SveBNhFgSsi0W",
      "include_colab_link": true
    },
    "kernelspec": {
      "name": "python3",
      "display_name": "Python 3"
    },
    "language_info": {
      "name": "python"
    },
    "accelerator": "GPU"
  },
  "cells": [
    {
      "cell_type": "markdown",
      "metadata": {
        "id": "view-in-github",
        "colab_type": "text"
      },
      "source": [
        "<a href=\"https://colab.research.google.com/github/Tanmayss1/Movie-Recommended-System/blob/main/Movie_Recommended_System.ipynb\" target=\"_parent\"><img src=\"https://colab.research.google.com/assets/colab-badge.svg\" alt=\"Open In Colab\"/></a>"
      ]
    },
    {
      "cell_type": "code",
      "execution_count": null,
      "metadata": {
        "id": "oyz37NP9yrOR"
      },
      "outputs": [],
      "source": [
        "import pandas as pd\n",
        "import numpy as np\n",
        "import seaborn as sns\n",
        "import matplotlib.pyplot as plt\n"
      ]
    },
    {
      "cell_type": "code",
      "source": [
        "credits = pd.read_csv(\"/content/Movie Recommended System/tmdb_5000_credits.csv\")\n",
        "credits_df = pd.DataFrame(credits)"
      ],
      "metadata": {
        "id": "-CWYU3Siz0af"
      },
      "execution_count": null,
      "outputs": []
    },
    {
      "cell_type": "code",
      "source": [
        "credits_df.head()"
      ],
      "metadata": {
        "id": "9MxTVPk61nSi"
      },
      "execution_count": null,
      "outputs": []
    },
    {
      "cell_type": "code",
      "source": [
        "movies = pd.read_csv(\"/content/Movie Recommended System/tmdb_5000_movies.csv\")\n",
        "\n",
        "movies['popularity']=movies['popularity'].round(1)\n",
        "movies_df = pd.DataFrame(movies)\n",
        "movies_df.head()"
      ],
      "metadata": {
        "id": "d_8bOAOa1n8f"
      },
      "execution_count": null,
      "outputs": []
    },
    {
      "cell_type": "code",
      "source": [
        "movies_data = movies['popularity'].round(0)"
      ],
      "metadata": {
        "id": "i0pYq3Bv6Y6A"
      },
      "execution_count": null,
      "outputs": []
    },
    {
      "cell_type": "code",
      "source": [
        "movies_df = movies.reset_index()\n",
        "movies_data = movies.merge(credits_df,on=\"title\")"
      ],
      "metadata": {
        "id": "Yp2mCWGS9L3y"
      },
      "execution_count": null,
      "outputs": []
    },
    {
      "cell_type": "code",
      "source": [
        "movies_data.head(3)"
      ],
      "metadata": {
        "id": "jD0YT7Ld9WT0"
      },
      "execution_count": null,
      "outputs": []
    },
    {
      "cell_type": "code",
      "source": [
        "movies_data.shape"
      ],
      "metadata": {
        "id": "OewlNXi22zGL"
      },
      "execution_count": null,
      "outputs": []
    },
    {
      "cell_type": "code",
      "source": [
        "movies_data.shape"
      ],
      "metadata": {
        "id": "V0DecMtb23vC"
      },
      "execution_count": null,
      "outputs": []
    },
    {
      "cell_type": "code",
      "source": [
        "movies_data.head()"
      ],
      "metadata": {
        "id": "TyyFEFKh3CCj"
      },
      "execution_count": null,
      "outputs": []
    },
    {
      "cell_type": "code",
      "source": [
        "#id\n",
        "#genres\n",
        "#keywords\n",
        "#title\n",
        "#overview\n",
        "#cast\n",
        "#crew\n",
        "#popularity\n",
        "\n",
        "final_data = movies_data[['movie_id','title','genres','keywords','overview','popularity','cast','crew']]"
      ],
      "metadata": {
        "id": "4KJ5nFq93KUG"
      },
      "execution_count": null,
      "outputs": []
    },
    {
      "cell_type": "code",
      "source": [
        "final_data.head()"
      ],
      "metadata": {
        "id": "DCUe7PMu5U_c"
      },
      "execution_count": null,
      "outputs": []
    },
    {
      "cell_type": "code",
      "source": [
        "final_data.isnull().sum()"
      ],
      "metadata": {
        "id": "3GuL4hQu6Me-"
      },
      "execution_count": null,
      "outputs": []
    },
    {
      "cell_type": "code",
      "source": [
        "final_data.dropna(inplace=True)"
      ],
      "metadata": {
        "id": "dVylxjgN_E8L"
      },
      "execution_count": null,
      "outputs": []
    },
    {
      "cell_type": "code",
      "source": [
        "final_data.duplicated().sum()"
      ],
      "metadata": {
        "id": "dHZ5-_Sp_Nw-"
      },
      "execution_count": null,
      "outputs": []
    },
    {
      "cell_type": "code",
      "source": [
        "final_data.iloc[0].genres"
      ],
      "metadata": {
        "id": "sqycW5mY_QU0"
      },
      "execution_count": null,
      "outputs": []
    },
    {
      "cell_type": "code",
      "source": [
        "import ast\n",
        "\n",
        "def convert(obj):\n",
        "  L = []\n",
        "  for i in ast.literal_eval(obj):\n",
        "    L.append(i['name'])\n",
        "  return L"
      ],
      "metadata": {
        "id": "Hhk7VYQ_A73R"
      },
      "execution_count": null,
      "outputs": []
    },
    {
      "cell_type": "code",
      "source": [
        "final_data['genres'] = final_data['genres'].apply(convert)\n"
      ],
      "metadata": {
        "id": "A95XuhQC_esc"
      },
      "execution_count": null,
      "outputs": []
    },
    {
      "cell_type": "code",
      "source": [
        "final_data.head()"
      ],
      "metadata": {
        "id": "MA3-pLHPAfk1"
      },
      "execution_count": null,
      "outputs": []
    },
    {
      "cell_type": "code",
      "source": [
        "final_data['keywords'] = final_data['keywords'].apply(convert)"
      ],
      "metadata": {
        "id": "Df8pQ647Bt2j"
      },
      "execution_count": null,
      "outputs": []
    },
    {
      "cell_type": "code",
      "source": [
        "final_data.head(4)"
      ],
      "metadata": {
        "id": "ck0Rr3e7B-My"
      },
      "execution_count": null,
      "outputs": []
    },
    {
      "cell_type": "code",
      "source": [
        "def convert3(obj):\n",
        "  L = []\n",
        "  counter = 0\n",
        "  for i in ast.literal_eval(obj):\n",
        "    if counter != 3:\n",
        "      L.append(i['name'])\n",
        "      counter+=1\n",
        "    else:\n",
        "      break\n",
        "  return L"
      ],
      "metadata": {
        "id": "7DjZ8f7nCDnr"
      },
      "execution_count": null,
      "outputs": []
    },
    {
      "cell_type": "code",
      "source": [
        "final_data['cast'] = final_data['cast'].apply(convert3)"
      ],
      "metadata": {
        "id": "XhEqhAitDSB6"
      },
      "execution_count": null,
      "outputs": []
    },
    {
      "cell_type": "code",
      "source": [
        "final_data.head(4)"
      ],
      "metadata": {
        "id": "yVGGtHZZDYyz"
      },
      "execution_count": null,
      "outputs": []
    },
    {
      "cell_type": "code",
      "source": [
        "final_data['crew'][0]"
      ],
      "metadata": {
        "id": "3gKZAMBeDgOw"
      },
      "execution_count": null,
      "outputs": []
    },
    {
      "cell_type": "code",
      "source": [
        "def fetch_director(obj):\n",
        "  L = []\n",
        "  for i in ast.literal_eval(obj):\n",
        "    if i['job']== 'Director':\n",
        "      L.append(i['name'])\n",
        "      break\n",
        "  return L"
      ],
      "metadata": {
        "id": "pH5yVJmcDmR4"
      },
      "execution_count": null,
      "outputs": []
    },
    {
      "cell_type": "code",
      "source": [
        "final_data['crew'] = final_data['crew'].apply(fetch_director)"
      ],
      "metadata": {
        "id": "TAjkwuRvEMaZ"
      },
      "execution_count": null,
      "outputs": []
    },
    {
      "cell_type": "code",
      "source": [
        "final_data['crew']"
      ],
      "metadata": {
        "id": "Y4d9p3yOEPNw"
      },
      "execution_count": null,
      "outputs": []
    },
    {
      "cell_type": "code",
      "source": [
        "final_data.head(4)"
      ],
      "metadata": {
        "id": "3NWzrPCZEaNF"
      },
      "execution_count": null,
      "outputs": []
    },
    {
      "cell_type": "code",
      "source": [
        "final_data['overview'].apply(lambda x:x.split())"
      ],
      "metadata": {
        "id": "HVRNVX5QEc83"
      },
      "execution_count": null,
      "outputs": []
    },
    {
      "cell_type": "code",
      "source": [
        "final_data.head(4)"
      ],
      "metadata": {
        "id": "1SUY1aleFjLN"
      },
      "execution_count": null,
      "outputs": []
    },
    {
      "cell_type": "code",
      "source": [
        "final_data['genres'] = final_data['genres'].apply(lambda x:[i.replace(\" \",\"\") for i in x])\n",
        "final_data['keywords'] = final_data['keywords'].apply(lambda x:[i.replace(\" \",\"\") for i in x])\n",
        "final_data['cast'] = final_data['cast'].apply(lambda x:[i.replace(\" \",\"\") for i in x])\n",
        "final_data['crew'] = final_data['crew'].apply(lambda x:[i.replace(\" \",\"\") for i in x])"
      ],
      "metadata": {
        "id": "9YtzsMu9FTC-"
      },
      "execution_count": null,
      "outputs": []
    },
    {
      "cell_type": "code",
      "source": [
        "final_data.head(3)"
      ],
      "metadata": {
        "id": "DtvqTtfKH4Dy"
      },
      "execution_count": null,
      "outputs": []
    },
    {
      "cell_type": "code",
      "source": [
        "final_data['tags'] = final_data['overview'].str.join(\" \") + \" \" + \\\n",
        "                            final_data['genres'].str.join(\" \") + \" \" + \\\n",
        "                            final_data['keywords'].str.join(\" \") + \" \" + \\\n",
        "                            final_data['cast'].str.join(\" \") + \" \" + \\\n",
        "                            final_data['crew'].str.join(\" \")"
      ],
      "metadata": {
        "id": "B7Rl1aJkH7BF"
      },
      "execution_count": null,
      "outputs": []
    },
    {
      "cell_type": "code",
      "source": [
        "final_data.columns"
      ],
      "metadata": {
        "id": "4G2ORBNkK9dD"
      },
      "execution_count": null,
      "outputs": []
    },
    {
      "cell_type": "code",
      "source": [
        "df_movies = final_data[['movie_id','title','popularity','tags']]"
      ],
      "metadata": {
        "id": "m_wEcoW-KVPZ"
      },
      "execution_count": null,
      "outputs": []
    },
    {
      "cell_type": "code",
      "source": [
        "df_movies.head(2)"
      ],
      "metadata": {
        "id": "e2OgdQ1yLWfr"
      },
      "execution_count": null,
      "outputs": []
    },
    {
      "cell_type": "code",
      "source": [
        "df_movies['tags'] = df_movies['tags'].apply(lambda x:\" \".join(x))"
      ],
      "metadata": {
        "id": "3dIg-36DLWOF"
      },
      "execution_count": null,
      "outputs": []
    },
    {
      "cell_type": "code",
      "source": [
        "df_movies['tags'][0]"
      ],
      "metadata": {
        "id": "BfhiLJdQKVMC"
      },
      "execution_count": null,
      "outputs": []
    },
    {
      "cell_type": "markdown",
      "source": [],
      "metadata": {
        "id": "0Vg4P7W3MNC_"
      }
    },
    {
      "cell_type": "code",
      "source": [
        "df_movies['tags'] = df_movies['tags'].apply(lambda x:x.lower())"
      ],
      "metadata": {
        "id": "1gM1QGYEKVAB"
      },
      "execution_count": null,
      "outputs": []
    },
    {
      "cell_type": "code",
      "source": [
        "df_movies.head(2)"
      ],
      "metadata": {
        "id": "vsMTsaAcMTs_"
      },
      "execution_count": null,
      "outputs": []
    },
    {
      "cell_type": "code",
      "source": [],
      "metadata": {
        "id": "qDjpi7qiMVsp"
      },
      "execution_count": null,
      "outputs": []
    }
  ]
}